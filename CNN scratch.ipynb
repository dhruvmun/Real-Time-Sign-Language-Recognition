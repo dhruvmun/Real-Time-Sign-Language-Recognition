{
 "cells": [
  {
   "cell_type": "code",
   "execution_count": 1,
   "metadata": {},
   "outputs": [
    {
     "name": "stderr",
     "output_type": "stream",
     "text": [
      "/usr/lib/python3.4/importlib/_bootstrap.py:321: FutureWarning: Conversion of the second argument of issubdtype from `float` to `np.floating` is deprecated. In future, it will be treated as `np.float64 == np.dtype(float).type`.\n",
      "  return f(*args, **kwds)\n"
     ]
    }
   ],
   "source": [
    "import pandas as pd\n",
    "import numpy as np\n",
    "import h5py\n",
    "import matplotlib.pyplot as plt\n",
    "%matplotlib inline"
   ]
  },
  {
   "cell_type": "code",
   "execution_count": 2,
   "metadata": {},
   "outputs": [],
   "source": [
    "dataset = pd.read_csv('sign_mnist_train.csv')"
   ]
  },
  {
   "cell_type": "code",
   "execution_count": 3,
   "metadata": {
    "scrolled": false
   },
   "outputs": [
    {
     "data": {
      "text/plain": [
       "(27455, 785)"
      ]
     },
     "execution_count": 3,
     "metadata": {},
     "output_type": "execute_result"
    }
   ],
   "source": [
    "dataset.shape"
   ]
  },
  {
   "cell_type": "code",
   "execution_count": 4,
   "metadata": {
    "scrolled": true
   },
   "outputs": [
    {
     "data": {
      "text/html": [
       "<div>\n",
       "<style scoped>\n",
       "    .dataframe tbody tr th:only-of-type {\n",
       "        vertical-align: middle;\n",
       "    }\n",
       "\n",
       "    .dataframe tbody tr th {\n",
       "        vertical-align: top;\n",
       "    }\n",
       "\n",
       "    .dataframe thead th {\n",
       "        text-align: right;\n",
       "    }\n",
       "</style>\n",
       "<table border=\"1\" class=\"dataframe\">\n",
       "  <thead>\n",
       "    <tr style=\"text-align: right;\">\n",
       "      <th></th>\n",
       "      <th>label</th>\n",
       "      <th>pixel1</th>\n",
       "      <th>pixel2</th>\n",
       "      <th>pixel3</th>\n",
       "      <th>pixel4</th>\n",
       "      <th>pixel5</th>\n",
       "      <th>pixel6</th>\n",
       "      <th>pixel7</th>\n",
       "      <th>pixel8</th>\n",
       "      <th>pixel9</th>\n",
       "      <th>...</th>\n",
       "      <th>pixel775</th>\n",
       "      <th>pixel776</th>\n",
       "      <th>pixel777</th>\n",
       "      <th>pixel778</th>\n",
       "      <th>pixel779</th>\n",
       "      <th>pixel780</th>\n",
       "      <th>pixel781</th>\n",
       "      <th>pixel782</th>\n",
       "      <th>pixel783</th>\n",
       "      <th>pixel784</th>\n",
       "    </tr>\n",
       "  </thead>\n",
       "  <tbody>\n",
       "    <tr>\n",
       "      <th>0</th>\n",
       "      <td>3</td>\n",
       "      <td>107</td>\n",
       "      <td>118</td>\n",
       "      <td>127</td>\n",
       "      <td>134</td>\n",
       "      <td>139</td>\n",
       "      <td>143</td>\n",
       "      <td>146</td>\n",
       "      <td>150</td>\n",
       "      <td>153</td>\n",
       "      <td>...</td>\n",
       "      <td>207</td>\n",
       "      <td>207</td>\n",
       "      <td>207</td>\n",
       "      <td>207</td>\n",
       "      <td>206</td>\n",
       "      <td>206</td>\n",
       "      <td>206</td>\n",
       "      <td>204</td>\n",
       "      <td>203</td>\n",
       "      <td>202</td>\n",
       "    </tr>\n",
       "    <tr>\n",
       "      <th>1</th>\n",
       "      <td>6</td>\n",
       "      <td>155</td>\n",
       "      <td>157</td>\n",
       "      <td>156</td>\n",
       "      <td>156</td>\n",
       "      <td>156</td>\n",
       "      <td>157</td>\n",
       "      <td>156</td>\n",
       "      <td>158</td>\n",
       "      <td>158</td>\n",
       "      <td>...</td>\n",
       "      <td>69</td>\n",
       "      <td>149</td>\n",
       "      <td>128</td>\n",
       "      <td>87</td>\n",
       "      <td>94</td>\n",
       "      <td>163</td>\n",
       "      <td>175</td>\n",
       "      <td>103</td>\n",
       "      <td>135</td>\n",
       "      <td>149</td>\n",
       "    </tr>\n",
       "    <tr>\n",
       "      <th>2</th>\n",
       "      <td>2</td>\n",
       "      <td>187</td>\n",
       "      <td>188</td>\n",
       "      <td>188</td>\n",
       "      <td>187</td>\n",
       "      <td>187</td>\n",
       "      <td>186</td>\n",
       "      <td>187</td>\n",
       "      <td>188</td>\n",
       "      <td>187</td>\n",
       "      <td>...</td>\n",
       "      <td>202</td>\n",
       "      <td>201</td>\n",
       "      <td>200</td>\n",
       "      <td>199</td>\n",
       "      <td>198</td>\n",
       "      <td>199</td>\n",
       "      <td>198</td>\n",
       "      <td>195</td>\n",
       "      <td>194</td>\n",
       "      <td>195</td>\n",
       "    </tr>\n",
       "    <tr>\n",
       "      <th>3</th>\n",
       "      <td>2</td>\n",
       "      <td>211</td>\n",
       "      <td>211</td>\n",
       "      <td>212</td>\n",
       "      <td>212</td>\n",
       "      <td>211</td>\n",
       "      <td>210</td>\n",
       "      <td>211</td>\n",
       "      <td>210</td>\n",
       "      <td>210</td>\n",
       "      <td>...</td>\n",
       "      <td>235</td>\n",
       "      <td>234</td>\n",
       "      <td>233</td>\n",
       "      <td>231</td>\n",
       "      <td>230</td>\n",
       "      <td>226</td>\n",
       "      <td>225</td>\n",
       "      <td>222</td>\n",
       "      <td>229</td>\n",
       "      <td>163</td>\n",
       "    </tr>\n",
       "    <tr>\n",
       "      <th>4</th>\n",
       "      <td>13</td>\n",
       "      <td>164</td>\n",
       "      <td>167</td>\n",
       "      <td>170</td>\n",
       "      <td>172</td>\n",
       "      <td>176</td>\n",
       "      <td>179</td>\n",
       "      <td>180</td>\n",
       "      <td>184</td>\n",
       "      <td>185</td>\n",
       "      <td>...</td>\n",
       "      <td>92</td>\n",
       "      <td>105</td>\n",
       "      <td>105</td>\n",
       "      <td>108</td>\n",
       "      <td>133</td>\n",
       "      <td>163</td>\n",
       "      <td>157</td>\n",
       "      <td>163</td>\n",
       "      <td>164</td>\n",
       "      <td>179</td>\n",
       "    </tr>\n",
       "  </tbody>\n",
       "</table>\n",
       "<p>5 rows × 785 columns</p>\n",
       "</div>"
      ],
      "text/plain": [
       "   label  pixel1  pixel2  pixel3  pixel4  pixel5  pixel6  pixel7  pixel8  \\\n",
       "0      3     107     118     127     134     139     143     146     150   \n",
       "1      6     155     157     156     156     156     157     156     158   \n",
       "2      2     187     188     188     187     187     186     187     188   \n",
       "3      2     211     211     212     212     211     210     211     210   \n",
       "4     13     164     167     170     172     176     179     180     184   \n",
       "\n",
       "   pixel9    ...     pixel775  pixel776  pixel777  pixel778  pixel779  \\\n",
       "0     153    ...          207       207       207       207       206   \n",
       "1     158    ...           69       149       128        87        94   \n",
       "2     187    ...          202       201       200       199       198   \n",
       "3     210    ...          235       234       233       231       230   \n",
       "4     185    ...           92       105       105       108       133   \n",
       "\n",
       "   pixel780  pixel781  pixel782  pixel783  pixel784  \n",
       "0       206       206       204       203       202  \n",
       "1       163       175       103       135       149  \n",
       "2       199       198       195       194       195  \n",
       "3       226       225       222       229       163  \n",
       "4       163       157       163       164       179  \n",
       "\n",
       "[5 rows x 785 columns]"
      ]
     },
     "execution_count": 4,
     "metadata": {},
     "output_type": "execute_result"
    }
   ],
   "source": [
    "dataset.head(5)"
   ]
  },
  {
   "cell_type": "code",
   "execution_count": 31,
   "metadata": {},
   "outputs": [
    {
     "name": "stdout",
     "output_type": "stream",
     "text": [
      "(27455, 28, 28, 1)\n",
      "(27455,)\n"
     ]
    }
   ],
   "source": [
    "pixels = dataset.ix[:,1:].values.astype('float32')\n",
    "label = dataset.ix[:,0].values.astype('int32')\n",
    "\n",
    "#Normalization\n",
    "pixels /= 255\n",
    "\n",
    "pixels = pixels.reshape(pixels.shape[0], 28, 28, 1)\n",
    "\n",
    "print (pixels.shape)\n",
    "print (label.shape)"
   ]
  },
  {
   "cell_type": "code",
   "execution_count": 7,
   "metadata": {},
   "outputs": [],
   "source": [
    "idx2alph = {0:'a',1:'b',2:'c',3:'d',4:'e',5:'f',6:'g',7:'h',8:'i',9:'j',10:'k',11:'l',12:'m',13:'n',14:'o',\n",
    "            15:'p',16:'q',17:'r',18:'s',19:'t',20:'u',21:'v',22:'w',23:'x',24:'y',25:'z'}"
   ]
  },
  {
   "cell_type": "code",
   "execution_count": 9,
   "metadata": {},
   "outputs": [
    {
     "data": {
      "image/png": "[encoded data removed]",
      "text/plain": [
       "<Figure size 432x288 with 1 Axes>"
      ]
     },
     "metadata": {},
     "output_type": "display_data"
    }
   ],
   "source": [
    "a=7\n",
    "plt.subplot(330 + a)\n",
    "plt.imshow(pixels[a], cmap=plt.get_cmap('gray'))\n",
    "plt.title(idx2alph[label[a]])\n",
    "plt.show()"
   ]
  },
  {
   "cell_type": "code",
   "execution_count": 13,
   "metadata": {},
   "outputs": [
    {
     "name": "stdout",
     "output_type": "stream",
     "text": [
      "(27455, 26)\n"
     ]
    }
   ],
   "source": [
    "# one-hot vector\n",
    "from keras.utils.np_utils import to_categorical\n",
    "label = to_categorical(label, 26)\n",
    "print (label.shape)"
   ]
  },
  {
   "cell_type": "markdown",
   "metadata": {},
   "source": [
    "## Model code"
   ]
  },
  {
   "cell_type": "code",
   "execution_count": 5,
   "metadata": {},
   "outputs": [],
   "source": [
    "def zero_pad(X, pad):\n",
    "    X_pad = np.pad(X, ((0, 0), (pad, pad), (pad, pad), (0, 0)), 'constant', constant_values=0) \n",
    "    return X_pad"
   ]
  },
  {
   "cell_type": "code",
   "execution_count": 7,
   "metadata": {},
   "outputs": [
    {
     "name": "stdout",
     "output_type": "stream",
     "text": [
      "x.shape = (4, 3, 3, 2)\n",
      "x_pad.shape = (4, 7, 7, 2)\n"
     ]
    },
    {
     "data": {
      "text/plain": [
       "<matplotlib.image.AxesImage at 0x7f6a0b4ffe48>"
      ]
     },
     "execution_count": 7,
     "metadata": {},
     "output_type": "execute_result"
    },
    {
     "data": {
      "image/png": "[encoded data removed]",
      "text/plain": [
       "<Figure size 432x288 with 2 Axes>"
      ]
     },
     "metadata": {},
     "output_type": "display_data"
    }
   ],
   "source": [
    "np.random.seed(1)\n",
    "x = np.random.randn(4, 3, 3, 2)\n",
    "x_pad = zero_pad(x, 2)\n",
    "print (\"x.shape =\", x.shape)\n",
    "print (\"x_pad.shape =\", x_pad.shape)\n",
    "\n",
    "fig, axarr = plt.subplots(1, 2)\n",
    "axarr[0].set_title('x')\n",
    "axarr[0].imshow(x[0,:,:,0])\n",
    "axarr[1].set_title('x_pad')\n",
    "axarr[1].imshow(x_pad[0,:,:,0])"
   ]
  },
  {
   "cell_type": "code",
   "execution_count": 9,
   "metadata": {},
   "outputs": [],
   "source": [
    "def conv_single_step(a_slice_prev, W, b):\n",
    "    s = np.multiply(a_slice_prev, W) + b\n",
    "    Z = np.sum(s)\n",
    "    return Z"
   ]
  },
  {
   "cell_type": "code",
   "execution_count": 10,
   "metadata": {},
   "outputs": [],
   "source": [
    "def conv_forward(A_prev, W, b, hparameters):\n",
    "    \n",
    "    (m, n_H_prev, n_W_prev, n_C_prev) = A_prev.shape\n",
    "    (f, f, n_C_prev, n_C) = W.shape\n",
    "\n",
    "    stride = hparameters['stride']\n",
    "    pad = hparameters['pad']\n",
    "    \n",
    "    n_H = int((n_H_prev - f + 2 * pad) / stride) + 1\n",
    "    n_W = int((n_W_prev - f + 2 * pad) / stride) + 1\n",
    "    \n",
    "    Z = np.zeros((m, n_H, n_W, n_C))\n",
    "    \n",
    "    A_prev_pad = zero_pad(A_prev, pad)\n",
    "    \n",
    "    for i in range(m):                                 # loop over the batch of training examples\n",
    "        a_prev_pad = A_prev_pad[i]                     # Select ith training example's padded activation\n",
    "        for h in range(n_H):                           # loop over vertical axis of the output volume\n",
    "            for w in range(n_W):                       # loop over horizontal axis of the output volume\n",
    "                for c in range(n_C):                   # loop over channels (= #filters) of the output volume\n",
    "                    # Find the corners of the current \"slice\" (≈4 lines)\n",
    "                    vert_start = h * stride\n",
    "                    vert_end = vert_start + f\n",
    "                    horiz_start = w * stride\n",
    "                    horiz_end = horiz_start + f\n",
    "                    \n",
    "                    a_slice_prev = a_prev_pad[vert_start:vert_end, horiz_start:horiz_end, :]\n",
    "                    Z[i, h, w, c] = conv_single_step(a_slice_prev, W[...,c], b[...,c])\n",
    "    \n",
    "    # Save information in \"cache\" for the backprop\n",
    "    cache = (A_prev, W, b, hparameters)\n",
    "    \n",
    "    return Z, cache"
   ]
  },
  {
   "cell_type": "code",
   "execution_count": 11,
   "metadata": {},
   "outputs": [
    {
     "name": "stdout",
     "output_type": "stream",
     "text": [
      "Z's mean = 3.9125516483785905\n"
     ]
    },
    {
     "ename": "IndexError",
     "evalue": "index 1 is out of bounds for axis 0 with size 1",
     "output_type": "error",
     "traceback": [
      "\u001b[0;31m---------------------------------------------------------------------------\u001b[0m",
      "\u001b[0;31mIndexError\u001b[0m                                Traceback (most recent call last)",
      "\u001b[0;32m<ipython-input-11-e7aaf6dbb443>\u001b[0m in \u001b[0;36m<module>\u001b[0;34m()\u001b[0m\n\u001b[1;32m      8\u001b[0m \u001b[0mZ\u001b[0m\u001b[0;34m,\u001b[0m \u001b[0mcache_conv\u001b[0m \u001b[0;34m=\u001b[0m \u001b[0mconv_forward\u001b[0m\u001b[0;34m(\u001b[0m\u001b[0mA_prev\u001b[0m\u001b[0;34m,\u001b[0m \u001b[0mW\u001b[0m\u001b[0;34m,\u001b[0m \u001b[0mb\u001b[0m\u001b[0;34m,\u001b[0m \u001b[0mhparameters\u001b[0m\u001b[0;34m)\u001b[0m\u001b[0;34m\u001b[0m\u001b[0m\n\u001b[1;32m      9\u001b[0m \u001b[0mprint\u001b[0m\u001b[0;34m(\u001b[0m\u001b[0;34m\"Z's mean =\"\u001b[0m\u001b[0;34m,\u001b[0m \u001b[0mnp\u001b[0m\u001b[0;34m.\u001b[0m\u001b[0mmean\u001b[0m\u001b[0;34m(\u001b[0m\u001b[0mZ\u001b[0m\u001b[0;34m)\u001b[0m\u001b[0;34m)\u001b[0m\u001b[0;34m\u001b[0m\u001b[0m\n\u001b[0;32m---> 10\u001b[0;31m \u001b[0mprint\u001b[0m\u001b[0;34m(\u001b[0m\u001b[0;34m\"cache_conv[0][1][2][3] =\"\u001b[0m\u001b[0;34m,\u001b[0m \u001b[0mcache_conv\u001b[0m\u001b[0;34m[\u001b[0m\u001b[0;36m0\u001b[0m\u001b[0;34m]\u001b[0m\u001b[0;34m[\u001b[0m\u001b[0;36m1\u001b[0m\u001b[0;34m]\u001b[0m\u001b[0;34m[\u001b[0m\u001b[0;36m2\u001b[0m\u001b[0;34m]\u001b[0m\u001b[0;34m[\u001b[0m\u001b[0;36m3\u001b[0m\u001b[0;34m]\u001b[0m\u001b[0;34m)\u001b[0m\u001b[0;34m\u001b[0m\u001b[0m\n\u001b[0m",
      "\u001b[0;31mIndexError\u001b[0m: index 1 is out of bounds for axis 0 with size 1"
     ]
    }
   ],
   "source": [
    "np.random.seed(1)\n",
    "A_prev = np.random.randn(1, 5, 5, 1)\n",
    "W = np.random.randn(2, 3, 3, 1)\n",
    "b = np.random.randn(1, 1, 1, 8)\n",
    "hparameters = {\"pad\" : 2,\n",
    "               \"stride\": 1}\n",
    "\n",
    "Z, cache_conv = conv_forward(A_prev, W, b, hparameters)\n",
    "print(\"Z's mean =\", np.mean(Z))\n",
    "print(\"cache_conv[0][1][2][3] =\", cache_conv[0][1][2][3])"
   ]
  },
  {
   "cell_type": "code",
   "execution_count": null,
   "metadata": {},
   "outputs": [],
   "source": []
  },
  {
   "cell_type": "code",
   "execution_count": 16,
   "metadata": {},
   "outputs": [],
   "source": [
    "## Hyperparameters\n",
    "image_size = 28\n",
    "num_channels = 1\n",
    "filter_size = 3\n",
    "depth = 4\n",
    "hidden1 = 256\n",
    "learning_rate = 0.1\n",
    "beta = 0\n",
    "\n",
    "num_classes = 26"
   ]
  },
  {
   "cell_type": "code",
   "execution_count": 15,
   "metadata": {},
   "outputs": [],
   "source": [
    "#sigmoid\n",
    "def sigmoid(X):\n",
    "    return 1/(1+np.exp(-1*X))\n",
    "\n",
    "#softmax\n",
    "def softmax(X):\n",
    "    exp_X = np.exp(X)\n",
    "    sum_exp_X = np.sum(exp_X,1).reshape(-1,1)  #col-wise sum\n",
    "    exp_X = exp_X/sum_exp_X\n",
    "    return exp_X"
   ]
  },
  {
   "cell_type": "markdown",
   "metadata": {},
   "source": [
    "### Initialize Weights\n",
    "\n",
    "    conv_layer1_weights = [3,3,1,4]\n",
    "    conv_layer2_weights = [3,3,4,16]\n",
    "    full_layer1_weights = [504,256]\n",
    "    full_layer2_weights = [256,10] "
   ]
  },
  {
   "cell_type": "code",
   "execution_count": 17,
   "metadata": {},
   "outputs": [],
   "source": [
    " def initialize_parameters():\n",
    "    #initialize weights values with 0 mean and 0.5 standard deviation.\n",
    "    mean = 0\n",
    "    std = 0.5\n",
    "    \n",
    "    #conv layer weights\n",
    "    conv_layer1_weights = np.random.normal(mean,std,(filter_size,filter_size,num_channels,depth))\n",
    "    conv_layer1_biases = np.zeros([1,depth])\n",
    "    conv_layer2_weights = np.random.normal(mean,std,(filter_size,filter_size,depth,depth*4))\n",
    "    conv_layer2_biases = np.zeros([1,depth*4])\n",
    "    \n",
    "    #fully-connected weights\n",
    "    full_layer1_weights = np.random.normal(mean,std,(((image_size//4-1) * (image_size//4-1) * depth * 4),hidden1))\n",
    "    full_layer1_biases = np.zeros([hidden1])\n",
    "    full_layer2_weights = np.random.normal(mean,std,(hidden1,num_classes))\n",
    "    full_layer2_biases = np.zeros([num_classes])\n",
    "    \n",
    "    parameters = dict()\n",
    "    parameters['cw1'] = conv_layer1_weights\n",
    "    parameters['cb1'] = conv_layer1_biases\n",
    "    parameters['cw2'] = conv_layer2_weights\n",
    "    parameters['cb2'] = conv_layer2_biases\n",
    "    parameters['fw1'] = full_layer1_weights\n",
    "    parameters['fb1'] = full_layer1_biases\n",
    "    parameters['fw2'] = full_layer2_weights\n",
    "    parameters['fb2'] = full_layer2_biases\n",
    "    \n",
    "    return parameters"
   ]
  },
  {
   "cell_type": "code",
   "execution_count": 18,
   "metadata": {},
   "outputs": [],
   "source": [
    "def conv_multiply(image,weights):\n",
    "    hsize = (image.shape[0]-weights.shape[0])//2 + 1\n",
    "    vsize = (image.shape[1]-weights.shape[1])//2 + 1\n",
    "    logits = np.zeros([hsize,vsize,weights.shape[3]])\n",
    "    for d in range(weights.shape[3]):\n",
    "        row = 0\n",
    "        for rpos in range(0,(image.shape[0]-filter_size+1),2):\n",
    "            col=0\n",
    "            for cpos in range(0,(image.shape[1]-filter_size+1),2):\n",
    "                logits[row,col,d] = np.sum(np.multiply(image[rpos:rpos+filter_size, cpos:cpos+filter_size, :],weights[:,:,:,d]))\n",
    "                col += 1\n",
    "            row+=1\n",
    "    return logits"
   ]
  },
  {
   "cell_type": "code",
   "execution_count": 19,
   "metadata": {},
   "outputs": [],
   "source": [
    "#FORWARD PROPAGATION\n",
    "def forward_propagation(dataset,parameters):\n",
    "    #convolution layers activations\n",
    "    m = dataset.shape[0]\n",
    "    \n",
    "    #get the parameters\n",
    "    cw1 = parameters['cw1']\n",
    "    cb1 = parameters['cb1']\n",
    "    cw2 = parameters['cw2']\n",
    "    cb2 = parameters['cb2']\n",
    "    \n",
    "    fw1 = parameters['fw1']\n",
    "    fb1 = parameters['fb1']\n",
    "    fw2 = parameters['fw2']\n",
    "    fb2 = parameters['fb2']\n",
    "    \n",
    "    #to store the intermediate activations for backward propagation\n",
    "    cache = dict()\n",
    "    \n",
    "    conv_activation1 = list()\n",
    "    conv_activation2 = list()\n",
    "    \n",
    "    #image by image convolutional forward propagation\n",
    "    for i in range(m):\n",
    "        image = dataset[i]\n",
    "        logits = conv_multiply(image,cw1) + cb1\n",
    "        ca1 = sigmoid(logits)\n",
    "        ca2 = sigmoid(conv_multiply(ca1,cw2) + cb2).reshape((image_size // 4 -1) * (image_size // 4 -1) * depth * 4)\n",
    "        \n",
    "        conv_activation1.append(ca1)\n",
    "        conv_activation2.append(ca2)\n",
    "        \n",
    "    #convert into numpy array\n",
    "    conv_activation1 = np.array(conv_activation1).reshape(m,image_size // 2 -1, image_size // 2 -1, depth)\n",
    "    conv_activation2 = np.array(conv_activation2).reshape(m,image_size // 4 -1, image_size // 4 -1, depth * 4)\n",
    "        \n",
    "    #expand the conv_activation2 into (m,num_features) \n",
    "    #num_features = (image_size // 4 * image_size // 4 * depth * 4)\n",
    "    temp_activation = np.array(conv_activation2).reshape(m,(image_size // 4 -1) * (image_size // 4-1) * depth * 4)\n",
    "    \n",
    "    #fully connected layers activations\n",
    "    full_activation1 = np.matmul(temp_activation,fw1) + fb1\n",
    "    full_activation1 = sigmoid(full_activation1)\n",
    "    full_activation2 = np.matmul(full_activation1,fw2) + fb2\n",
    "    output = softmax(full_activation2)\n",
    "    \n",
    "    cache['ca1'] = conv_activation1\n",
    "    cache['ca2'] = conv_activation2\n",
    "    cache['fa1'] = full_activation1\n",
    "    cache['output'] = output\n",
    "    return cache,output"
   ]
  },
  {
   "cell_type": "code",
   "execution_count": 21,
   "metadata": {},
   "outputs": [],
   "source": [
    "#calculate conv deltas or errors only for one example\n",
    "def conv_delta(next_error,weights):\n",
    "    delta = np.zeros([next_error.shape[0]*2+1,next_error.shape[1]*2+1,next_error.shape[2]//4])\n",
    "    for d in range(weights.shape[3]):\n",
    "        row = 0\n",
    "        for rpos in range(0,delta.shape[0]-filter_size+1,2):\n",
    "            col=0\n",
    "            for cpos in range(0,delta.shape[2]-filter_size+1,2):\n",
    "                delta[rpos:rpos+filter_size,cpos:cpos+filter_size,:] += weights[:,:,:,d]*next_error[row,col,d]\n",
    "                col+=1\n",
    "            row +=1\n",
    "    return delta"
   ]
  },
  {
   "cell_type": "code",
   "execution_count": 22,
   "metadata": {},
   "outputs": [],
   "source": [
    "#conv partial derivatives only for single example\n",
    "def conv_derivatives(delta,activation):\n",
    "    partial_derivatives = np.zeros([filter_size,filter_size,activation.shape[2],delta.shape[2]])\n",
    "    for d2 in range(0,partial_derivatives.shape[3]):\n",
    "        row=0\n",
    "        for rpos in range(0,activation.shape[0]-filter_size+1,2):\n",
    "            col = 0\n",
    "            for cpos in range(0,activation.shape[1]-filter_size+1,2):\n",
    "                partial_derivatives[:,:,:,d2] += np.multiply(activation[rpos:rpos+filter_size, cpos:cpos+filter_size, :],delta[row,col,d2])\n",
    "                col += 1\n",
    "            row += 1\n",
    "    return partial_derivatives"
   ]
  },
  {
   "cell_type": "code",
   "execution_count": 23,
   "metadata": {},
   "outputs": [],
   "source": [
    "def backward_propagation(dataset,labels,cache,parameters):\n",
    "    #get activations\n",
    "    output = cache['output']\n",
    "    fa1 = cache['fa1']\n",
    "    ca2 = cache['ca2']\n",
    "    ca1 = cache['ca1']\n",
    "    \n",
    "    temp_act = np.array(ca2).reshape(-1,(image_size // 4-1) * (image_size // 4 -1)* depth * 4)\n",
    "    \n",
    "    #get parameters\n",
    "    cw1 = parameters['cw1']\n",
    "    cw2 = parameters['cw2']\n",
    "    fw1 = parameters['fw1']\n",
    "    fw2 = parameters['fw2']\n",
    "    \n",
    "    \n",
    "    #cal errors fully connected\n",
    "    error_fa2 = output - labels\n",
    "    error_fa1 = np.matmul(error_fa2,fw2.T)\n",
    "    error_fa1 = np.multiply(error_fa1,fa1)\n",
    "    error_fa1 = np.multiply(error_fa1,(1-fa1))\n",
    "    error_temp = np.matmul(error_fa1,fw1.T)\n",
    "    error_temp = np.multiply(error_temp,temp_act)\n",
    "    error_temp = np.multiply(error_temp,(1-temp_act))\n",
    "    \n",
    "    m = dataset.shape[0]\n",
    "    \n",
    "    #cal errors conv layers\n",
    "    error_ca2 = np.array(error_temp).reshape(-1,image_size//4-1,image_size//4-1,depth*4)\n",
    "    error_ca1 = np.zeros(ca1.shape)\n",
    "    ## Image by Image error\n",
    "    for i in range(m):\n",
    "        error = conv_delta(error_ca2[i],cw2)\n",
    "        error = np.multiply(error,ca1[i])\n",
    "        error = np.multiply(error,(1-ca1[i]))\n",
    "        error_ca1 += error\n",
    "    \n",
    "    \n",
    "    #calculate partial derivatives\n",
    "    #fully connected layers\n",
    "    fd2 = (np.matmul(fa1.T,error_fa2) + beta*fw2)/m\n",
    "    fd1 = (np.matmul(temp_act.T,error_fa1) + beta*fw1)/m\n",
    "    \n",
    "    #conv layers\n",
    "    cd2 = np.zeros(cw2.shape)\n",
    "    cd1 = np.zeros(cw1.shape)\n",
    "    \n",
    "    ##Image by Image derivatives\n",
    "    for i in range(m):\n",
    "        cd2 = cd2 + conv_derivatives(error_ca2[i],ca1[i])\n",
    "        cd1 = cd1 + conv_derivatives(error_ca1[i],dataset[i])\n",
    "    cd2 = (cd2 + beta*cw2)/m\n",
    "    cd1 = (cd1 + beta*cw1)/m\n",
    "    \n",
    "    \n",
    "    #store the derivatives in dict\n",
    "    derivatives = dict()\n",
    "    \n",
    "    derivatives['cd1'] = cd1\n",
    "    derivatives['cd2'] = cd2\n",
    "    derivatives['fd1'] = fd1\n",
    "    derivatives['fd2'] = fd2\n",
    "    \n",
    "    return derivatives"
   ]
  },
  {
   "cell_type": "code",
   "execution_count": 24,
   "metadata": {},
   "outputs": [],
   "source": [
    "def update_parameters(derivatives,parameters):\n",
    "    #get parameters\n",
    "    cw1 = parameters['cw1']\n",
    "    cw2 = parameters['cw2']\n",
    "    fw1 = parameters['fw1']\n",
    "    fw2 = parameters['fw2']\n",
    "    \n",
    "    #get derivatives\n",
    "    cd1 = derivatives['cd1']\n",
    "    cd2 = derivatives['cd2']\n",
    "    fd1 = derivatives['fd1']\n",
    "    fd2 = derivatives['fd2']\n",
    "    \n",
    "    #update\n",
    "    cw1 = cw1 - learning_rate*cd1\n",
    "    cw2 = cw2 - learning_rate*cd2\n",
    "    fw1 = fw1 - learning_rate*fd1\n",
    "    fw2 = fw2 - learning_rate*fd2\n",
    "    \n",
    "    #update the dict\n",
    "    parameters['cw1'] = cw1\n",
    "    parameters['cw2'] = cw2\n",
    "    parameters['fw1'] = fw1\n",
    "    parameters['fw2'] = fw2\n",
    "    \n",
    "    return parameters"
   ]
  },
  {
   "cell_type": "code",
   "execution_count": 25,
   "metadata": {},
   "outputs": [],
   "source": [
    "def cal_loss_accuracy(true_labels,predictions,parameters):\n",
    "    #get parameters\n",
    "    cw1 = parameters['cw1']\n",
    "    cw2 = parameters['cw2']\n",
    "    fw1 = parameters['fw1']\n",
    "    fw2 = parameters['fw2']\n",
    "    \n",
    "    m = len(true_labels)\n",
    "    \n",
    "    #cal loss\n",
    "    loss = -1*(np.sum(np.multiply(np.log(predictions),true_labels),1) + np.sum(np.multiply(np.log(1-predictions),1-true_labels),1))\n",
    "    loss = np.sum(loss)\n",
    "    loss = loss + beta*(np.sum(cw1**2) + np.sum(cw2**2) + np.sum(fw1**2) + np.sum(fw2**2))\n",
    "    loss = loss/m\n",
    "    \n",
    "    #cal accuracy\n",
    "    accuracy = np.sum(np.argmax(true_labels,1)==np.argmax(predictions,1))/m\n",
    "    \n",
    "    return loss,accuracy"
   ]
  },
  {
   "cell_type": "code",
   "execution_count": 34,
   "metadata": {},
   "outputs": [],
   "source": [
    "#train function\n",
    "def train(train_dataset,train_labels,batch_size=20,iters=101,stride=2):\n",
    "    \n",
    "    #print(train_dataset.shape)\n",
    "    #initialize the parameters\n",
    "    parameters = initialize_parameters()\n",
    "    \n",
    "    cw1 = parameters['cw1']\n",
    "    cb1 = parameters['cb1']\n",
    "    cw2 = parameters['cw2']\n",
    "    cb2 = parameters['cb2']\n",
    "    \n",
    "    fw1 = parameters['fw1']\n",
    "    fb1 = parameters['fb1']\n",
    "    fw2 = parameters['fw2']\n",
    "    fb2 = parameters['fb2']\n",
    "    \n",
    "    J = []  #store the loss o every batch\n",
    "    A = []  #store the accuracy of every batch\n",
    "    \n",
    "    \n",
    "    #training process.\n",
    "    for step in range(iters):\n",
    "        #get the batch data.\n",
    "        start = (step*batch_size)%(train_dataset.shape[0])\n",
    "        end = start + batch_size\n",
    "        \n",
    "        batch_dataset = train_dataset[start:end, : , : , : ]\n",
    "        batch_labels = train_labels[start:end, : ]\n",
    "        \n",
    "        #forward propagation\n",
    "        cache,output = forward_propagation(batch_dataset,parameters)\n",
    "        \n",
    "        #cal_loss and accuracy\n",
    "        loss,accuracy = cal_loss_accuracy(batch_labels,output,parameters)\n",
    "        \n",
    "        #calculate the derivatives\n",
    "        derivatives = backward_propagation(batch_dataset,batch_labels,cache,parameters)\n",
    "        \n",
    "        #update the parameters\n",
    "        parameters = update_parameters(derivatives,parameters)\n",
    "        \n",
    "        #append the loss and accuracy of every batch\n",
    "        J.append(loss)\n",
    "        A.append(accuracy)\n",
    "        \n",
    "        #print loss and accuracy of the batch dataset.\n",
    "        if(step%100==0):\n",
    "            print('Step : %d'%step)\n",
    "            print('Loss : %f'%loss)\n",
    "            print('Accuracy : %f%%'%(round(accuracy*100,2)))\n",
    "            \n",
    "    return J,A,parameters"
   ]
  },
  {
   "cell_type": "code",
   "execution_count": 37,
   "metadata": {},
   "outputs": [
    {
     "name": "stdout",
     "output_type": "stream",
     "text": [
      "(27455, 28, 28, 1)\n"
     ]
    },
    {
     "ename": "IndexError",
     "evalue": "too many indices for array",
     "output_type": "error",
     "traceback": [
      "\u001b[0;31m---------------------------------------------------------------------------\u001b[0m",
      "\u001b[0;31mIndexError\u001b[0m                                Traceback (most recent call last)",
      "\u001b[0;32m<ipython-input-37-6a20bfe2a86d>\u001b[0m in \u001b[0;36m<module>\u001b[0;34m()\u001b[0m\n\u001b[1;32m      1\u001b[0m \u001b[0;31m#TRAINING\u001b[0m\u001b[0;34m\u001b[0m\u001b[0;34m\u001b[0m\u001b[0m\n\u001b[0;32m----> 2\u001b[0;31m \u001b[0mJ\u001b[0m\u001b[0;34m,\u001b[0m\u001b[0mA\u001b[0m\u001b[0;34m,\u001b[0m\u001b[0mparameters\u001b[0m \u001b[0;34m=\u001b[0m \u001b[0mtrain\u001b[0m\u001b[0;34m(\u001b[0m\u001b[0mpixels\u001b[0m\u001b[0;34m,\u001b[0m\u001b[0mlabel\u001b[0m\u001b[0;34m)\u001b[0m\u001b[0;34m\u001b[0m\u001b[0m\n\u001b[0m",
      "\u001b[0;32m<ipython-input-34-91a547bd417d>\u001b[0m in \u001b[0;36mtrain\u001b[0;34m(train_dataset, train_labels, batch_size, iters, stride)\u001b[0m\n\u001b[1;32m     27\u001b[0m \u001b[0;34m\u001b[0m\u001b[0m\n\u001b[1;32m     28\u001b[0m         \u001b[0mbatch_dataset\u001b[0m \u001b[0;34m=\u001b[0m \u001b[0mtrain_dataset\u001b[0m\u001b[0;34m[\u001b[0m\u001b[0mstart\u001b[0m\u001b[0;34m:\u001b[0m\u001b[0mend\u001b[0m\u001b[0;34m,\u001b[0m\u001b[0;34m:\u001b[0m\u001b[0;34m,\u001b[0m\u001b[0;34m:\u001b[0m\u001b[0;34m,\u001b[0m\u001b[0;34m:\u001b[0m\u001b[0;34m]\u001b[0m\u001b[0;34m\u001b[0m\u001b[0m\n\u001b[0;32m---> 29\u001b[0;31m         \u001b[0mbatch_labels\u001b[0m \u001b[0;34m=\u001b[0m \u001b[0mtrain_labels\u001b[0m\u001b[0;34m[\u001b[0m\u001b[0mstart\u001b[0m\u001b[0;34m:\u001b[0m\u001b[0mend\u001b[0m\u001b[0;34m,\u001b[0m\u001b[0;34m:\u001b[0m\u001b[0;34m]\u001b[0m\u001b[0;34m\u001b[0m\u001b[0m\n\u001b[0m\u001b[1;32m     30\u001b[0m \u001b[0;34m\u001b[0m\u001b[0m\n\u001b[1;32m     31\u001b[0m         \u001b[0;31m#forward propagation\u001b[0m\u001b[0;34m\u001b[0m\u001b[0;34m\u001b[0m\u001b[0m\n",
      "\u001b[0;31mIndexError\u001b[0m: too many indices for array"
     ]
    }
   ],
   "source": [
    "#TRAINING\n",
    "J,A,parameters = train(pixels,label)"
   ]
  },
  {
   "cell_type": "code",
   "execution_count": null,
   "metadata": {},
   "outputs": [],
   "source": []
  },
  {
   "cell_type": "code",
   "execution_count": null,
   "metadata": {},
   "outputs": [],
   "source": []
  }
 ],
 "metadata": {
  "kernelspec": {
   "display_name": "Python 3",
   "language": "python",
   "name": "python3"
  },
  "language_info": {
   "codemirror_mode": {
    "name": "ipython",
    "version": 3
   },
   "file_extension": ".py",
   "mimetype": "text/x-python",
   "name": "python",
   "nbconvert_exporter": "python",
   "pygments_lexer": "ipython3",
   "version": "3.4.3"
  }
 },
 "nbformat": 4,
 "nbformat_minor": 2
}
